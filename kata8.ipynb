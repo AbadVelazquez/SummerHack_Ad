{
 "cells": [
  {
   "cell_type": "markdown",
   "metadata": {},
   "source": [
    "*Realizado por Abad Velazquez Fuentes*"
   ]
  },
  {
   "cell_type": "markdown",
   "metadata": {},
   "source": [
    "# Ejercicio 1: Crear y modificar un diccionario de Python\n",
    "Realizar...\n",
    "1. Crear un diccionario que almacene información sobre el planeta Marte.\n",
    "        El diccionario debe tener la siguiente información:\n",
    "\n",
    "                name: Mars\n",
    "                moons: 2\n",
    "\n",
    "2. Muestra en pantalla la informecion que contiene el diccionario.\n",
    "3. Agregar un nuevo valor al diccionario con una clave de _'circunferencia (km)'_. \n",
    "        Este nuevo valor debería almacenar un diccionario con las dos circunferencias del planeta.\n",
    "\n",
    "                polar: 6752\n",
    "                equatorial: 6792\n",
    "\n",
    "4. Imprimir el nombre del planeta con su circunferencia polar"
   ]
  },
  {
   "cell_type": "code",
   "execution_count": 20,
   "metadata": {},
   "outputs": [],
   "source": [
    "# 1. Definicion de diccionario con los datos propuestos\n",
    "planet= {\n",
    "    'name': 'Mars',\n",
    "    'moons': 2\n",
    "}"
   ]
  },
  {
   "cell_type": "code",
   "execution_count": 15,
   "metadata": {},
   "outputs": [
    {
     "name": "stdout",
     "output_type": "stream",
     "text": [
      "The planet Mars has 2 moons\n"
     ]
    }
   ],
   "source": [
    "# 2. Muestra el nombre del planeta y el número de lunas que tiene.\n",
    "print(f'The planet {planet[\"name\"]} has {planet[\"moons\"]} moons')"
   ]
  },
  {
   "cell_type": "code",
   "execution_count": 21,
   "metadata": {},
   "outputs": [],
   "source": [
    "# 3. Se agrega la clave circunferencia con los datos proporcionados previamente al diccionario planet\n",
    "planet['circumference (km)'] = {\n",
    "        'polar': 6752,\n",
    "        'equatorial': 6792\n",
    "}"
   ]
  },
  {
   "cell_type": "code",
   "execution_count": 25,
   "metadata": {},
   "outputs": [
    {
     "name": "stdout",
     "output_type": "stream",
     "text": [
      "The planet Mars has a polar circumference of 6752 kms\n"
     ]
    }
   ],
   "source": [
    "# 4. Impresion del nombre del planeta con su circunferencia polar.\n",
    "print(f'The planet {planet[\"name\"]} has a polar circumference of {planet[\"circumference (km)\"][\"polar\"]} kms')"
   ]
  },
  {
   "cell_type": "markdown",
   "metadata": {},
   "source": [
    "# Ejercicio 2: Programación dinámica con diccionarios\n",
    "Calcular tanto el número total de lunas en el sistema solar como el número promedio de lunas que tiene un planeta. Para finalmente calcular el promedio de lunas resecto al numero de planetas."
   ]
  },
  {
   "cell_type": "code",
   "execution_count": 30,
   "metadata": {},
   "outputs": [],
   "source": [
    "# Planets and moons\n",
    "planet_moons = {\n",
    "    'mercury': 0,\n",
    "    'venus': 0,\n",
    "    'earth': 1,\n",
    "    'mars': 2,\n",
    "    'jupiter': 79,\n",
    "    'saturn': 82,\n",
    "    'uranus': 27,\n",
    "    'neptune': 14,\n",
    "    'pluto': 5,\n",
    "    'haumea': 2,\n",
    "    'makemake': 1,\n",
    "    'eris': 1\n",
    "}"
   ]
  },
  {
   "cell_type": "code",
   "execution_count": 32,
   "metadata": {},
   "outputs": [],
   "source": [
    "# 1. Se determinar el número de lunas y el numero de planetas\n",
    "\n",
    "# Se obtiene la lista de numero de lunas del diccionario y se guarda en la variable moons\n",
    "moons = planet_moons.values()\n",
    "\n",
    "# Se obtiene el numero de planetas del diccionario y se guarda en la variable planets\n",
    "planets = len(planet_moons.keys())"
   ]
  },
  {
   "cell_type": "code",
   "execution_count": 33,
   "metadata": {},
   "outputs": [
    {
     "name": "stdout",
     "output_type": "stream",
     "text": [
      "The average number of moons is: 17.833333333333332\n"
     ]
    }
   ],
   "source": [
    "# 2. Se cuentar el número de lunas mediante un for y se obtine el promedio de lunas\n",
    "\n",
    "total_moons = 0     # Se inicializa variable para contar las lunas\n",
    "\n",
    "for moon in moons:\n",
    "    total_moons += moon # se suman el num de lunas\n",
    "\n",
    "#Se optiene el promedio de lunas\n",
    "promedio = total_moons / planets\n",
    "\n",
    "# Se muestra en pantalla el resultado\n",
    "print(f'The average number of moons is: {promedio}')\n",
    "\n"
   ]
  }
 ],
 "metadata": {
  "interpreter": {
   "hash": "9bf2ca0f4a7adc3ce2f237ca763c1538d3ef289a4e7face3612a01cdae9f6807"
  },
  "kernelspec": {
   "display_name": "Python 3.10.1 64-bit",
   "language": "python",
   "name": "python3"
  },
  "language_info": {
   "codemirror_mode": {
    "name": "ipython",
    "version": 3
   },
   "file_extension": ".py",
   "mimetype": "text/x-python",
   "name": "python",
   "nbconvert_exporter": "python",
   "pygments_lexer": "ipython3",
   "version": "3.10.1"
  },
  "orig_nbformat": 4
 },
 "nbformat": 4,
 "nbformat_minor": 2
}
